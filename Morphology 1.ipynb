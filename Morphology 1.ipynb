{
 "cells": [
  {
   "cell_type": "markdown",
   "metadata": {},
   "source": [
    "# Морфология 1\n",
    "\n",
    "Здесь мы познакомимся с двумя мофрологическими анализоторами: pymorphy и mystem."
   ]
  },
  {
   "cell_type": "code",
   "execution_count": 50,
   "metadata": {},
   "outputs": [],
   "source": [
    "sample_text = u'Гло́кая ку́здра ште́ко будлану́ла бо́кра и курдя́чит бокрёнка'"
   ]
  },
  {
   "cell_type": "markdown",
   "metadata": {},
   "source": [
    "### 1. MyStem"
   ]
  },
  {
   "cell_type": "code",
   "execution_count": 5,
   "metadata": {},
   "outputs": [
    {
     "name": "stdout",
     "output_type": "stream",
     "text": [
      "Collecting git+https://github.com/nlpub/pymystem3\n",
      "  Cloning https://github.com/nlpub/pymystem3 to c:\\users\\vkorzun\\appdata\\local\\temp\\pip-req-build-jrevbiqw\n",
      "Requirement already satisfied (use --upgrade to upgrade): pymystem3==0.2.0 from git+https://github.com/nlpub/pymystem3 in c:\\python37\\lib\\site-packages\n",
      "Requirement already satisfied: requests in c:\\python37\\lib\\site-packages (from pymystem3==0.2.0) (2.22.0)\n",
      "Requirement already satisfied: idna<2.9,>=2.5 in c:\\python37\\lib\\site-packages (from requests->pymystem3==0.2.0) (2.8)\n",
      "Requirement already satisfied: urllib3!=1.25.0,!=1.25.1,<1.26,>=1.21.1 in c:\\python37\\lib\\site-packages (from requests->pymystem3==0.2.0) (1.25.3)\n",
      "Requirement already satisfied: chardet<3.1.0,>=3.0.2 in c:\\python37\\lib\\site-packages (from requests->pymystem3==0.2.0) (3.0.4)\n",
      "Requirement already satisfied: certifi>=2017.4.17 in c:\\python37\\lib\\site-packages (from requests->pymystem3==0.2.0) (2019.9.11)\n"
     ]
    },
    {
     "name": "stderr",
     "output_type": "stream",
     "text": [
      "You are using pip version 19.0.3, however version 19.2.3 is available.\n",
      "You should consider upgrading via the 'python -m pip install --upgrade pip' command.\n"
     ]
    }
   ],
   "source": [
    "# поставим модуль если он еще не стоит\n",
    "!pip install pymystem3"
   ]
  },
  {
   "cell_type": "code",
   "execution_count": 22,
   "metadata": {},
   "outputs": [],
   "source": [
    "from pymystem3 import Mystem\n",
    "# инициализация собственно инициализатора\n",
    "mystem_analyzer = Mystem(entire_input=False, disambiguation=False)\n",
    "# entire_output - сохранение всего входа (напр. пробелов)\n",
    "# disambiguation - снятие омонимии"
   ]
  },
  {
   "cell_type": "markdown",
   "metadata": {},
   "source": [
    "Две основные функции Mystem:\n",
    "- Проводить мофрологический анализ\n",
    "- Приводить начальные формы для слов в тексте"
   ]
  },
  {
   "cell_type": "code",
   "execution_count": 29,
   "metadata": {},
   "outputs": [],
   "source": [
    "mystem_result = mystem_analyzer.analyze(sample_text)\n",
    "mystem_lemmas = mystem_analyzer.lemmatize(sample_text)"
   ]
  },
  {
   "cell_type": "code",
   "execution_count": 37,
   "metadata": {},
   "outputs": [
    {
     "name": "stdout",
     "output_type": "stream",
     "text": [
      "Гло́кая ку́здра ште́ко будлану́ла бо́кра и курдя́чит бокрёнка\n",
      "глокая куздра штеко будлануть бокра и курдячить бокренка\n"
     ]
    }
   ],
   "source": [
    "# Посмотрим, что у нас получилось при лемматизации \n",
    "# (да, чтобы вывести юникодные строки на втором питоне приходится так извращаться)\n",
    "print sample_text\n",
    "for word in mystem_lemmas:    \n",
    "    print word,"
   ]
  },
  {
   "cell_type": "code",
   "execution_count": 28,
   "metadata": {},
   "outputs": [
    {
     "name": "stdout",
     "output_type": "stream",
     "text": [
      "Гло́кая\n",
      "\t{u'lex': u'глокая', u'qual': u'bastard', u'wt': 0.3605448292, u'gr': u'S,ед,жен,неод=им'}\n",
      "\t{u'lex': u'глокать', u'qual': u'bastard', u'wt': 0.3605448292, u'gr': u'V,несов=непрош,деепр,пе'}\n",
      "\t{u'lex': u'глокая', u'qual': u'bastard', u'wt': 0.1038369108, u'gr': u'S,жен,од=им,ед'}\n",
      "\t{u'lex': u'глокай', u'qual': u'bastard', u'wt': 0.09304979929, u'gr': u'S,муж,неод=род,ед'}\n",
      "\t{u'lex': u'глокать', u'qual': u'bastard', u'wt': 0.03306575604, u'gr': u'V,несов,нп=непрош,деепр'}\n",
      "\t{u'lex': u'глокий', u'qual': u'bastard', u'wt': 0.01624943977, u'gr': u'A=им,ед,полн,жен'}\n",
      "\t{u'lex': u'глокать', u'qual': u'bastard', u'wt': 0.01512198266, u'gr': u'V,несов,пе=непрош,деепр'}\n",
      "\t{u'lex': u'глокий', u'qual': u'bastard', u'wt': 0.01077529943, u'gr': u'A=им,ед,полн,жен'}\n",
      "\t{u'lex': u'глокать', u'qual': u'bastard', u'wt': 0.006811153662, u'gr': u'V,нп=непрош,деепр,несов'}\n",
      "ку́здра\n",
      "\t{u'lex': u'куздра', u'qual': u'bastard', u'wt': 0.6292693823, u'gr': u'S,ед,жен,неод=им'}\n",
      "\t{u'lex': u'куздра', u'qual': u'bastard', u'wt': 0.3707306177, u'gr': u'S,гео,жен,неод=им,ед'}\n",
      "ште́ко\n",
      "\t{u'lex': u'штеко', u'qual': u'bastard', u'wt': 0.3217673592, u'gr': u'S,имя,мж,од=(пр,мн|пр,ед|вин,мн|вин,ед|дат,мн|дат,ед|род,мн|род,ед|твор,мн|твор,ед|им,мн|им,ед)'}\n",
      "\t{u'lex': u'штеко', u'qual': u'bastard', u'wt': 0.2574119755, u'gr': u'ADV='}\n",
      "\t{u'lex': u'штеко', u'qual': u'bastard', u'wt': 0.1608460987, u'gr': u'S,сред,неод=(пр,мн|пр,ед|вин,мн|вин,ед|дат,мн|дат,ед|род,мн|род,ед|твор,мн|твор,ед|им,мн|им,ед)'}\n",
      "\t{u'lex': u'штеко', u'qual': u'bastard', u'wt': 0.08253134141, u'gr': u'S,сред,неод=(вин,ед|им,ед)'}\n",
      "\t{u'lex': u'штеко', u'qual': u'bastard', u'wt': 0.07936870775, u'gr': u'S,ед,сред,неод=(вин|им)'}\n",
      "\t{u'lex': u'штеко', u'qual': u'bastard', u'wt': 0.03215211714, u'gr': u'S,имя,муж,од=(пр,мн|пр,ед|вин,мн|вин,ед|дат,мн|дат,ед|род,мн|род,ед|твор,мн|твор,ед|им,мн|им,ед)'}\n",
      "\t{u'lex': u'штеко', u'qual': u'bastard', u'wt': 0.03210293606, u'gr': u'S,фам,мж,од=(пр,мн|пр,ед|вин,мн|вин,ед|дат,мн|дат,ед|род,мн|род,ед|твор,мн|твор,ед|им,мн|им,ед)'}\n",
      "\t{u'lex': u'штеко', u'qual': u'bastard', u'wt': 0.03208609722, u'gr': u'S,гео,ед,муж,неод=(пр|вин|дат|род|твор|им)'}\n",
      "\t{u'lex': u'штекий', u'qual': u'bastard', u'wt': 0.001720046713, u'gr': u'A=ед,кр,сред'}\n",
      "\t{u'lex': u'штекий', u'qual': u'bastard', u'wt': 1.332032949e-05, u'gr': u'A=ед,кр,сред'}\n",
      "\t{u'lex': u'штеко', u'qual': u'bastard', u'wt': 0, u'gr': u'S,имя,ед,муж,од=им'}\n",
      "будлану́ла\n",
      "\t{u'lex': u'будлануть', u'qual': u'bastard', u'wt': 0.2884335962, u'gr': u'V,обсц,сов=прош,ед,изъяв,жен'}\n",
      "\t{u'lex': u'будлануть', u'qual': u'bastard', u'wt': 0.2884335962, u'gr': u'V,разг,обсц,сов=прош,ед,изъяв,жен'}\n",
      "\t{u'lex': u'будланула', u'qual': u'bastard', u'wt': 0.09985378522, u'gr': u'S,имя,жен,од=им,ед'}\n",
      "\t{u'lex': u'будлануть', u'qual': u'bastard', u'wt': 0.05695153583, u'gr': u'V,сов,пе=прош,ед,изъяв,жен'}\n",
      "\t{u'lex': u'будлануть', u'qual': u'bastard', u'wt': 0.05212627477, u'gr': u'V,сов,пе=прош,ед,изъяв,жен'}\n",
      "\t{u'lex': u'будлануть', u'qual': u'bastard', u'wt': 0.04770114448, u'gr': u'V,сов,нп=прош,ед,изъяв,жен'}\n",
      "\t{u'lex': u'будлануть', u'qual': u'bastard', u'wt': 0.04683850382, u'gr': u'V,сов,пе=прош,ед,изъяв,жен'}\n",
      "\t{u'lex': u'будланула', u'qual': u'bastard', u'wt': 0.04299689435, u'gr': u'S,жен,неод=им,ед'}\n",
      "\t{u'lex': u'будланул', u'qual': u'bastard', u'wt': 0.03753661836, u'gr': u'S,муж,од=(вин,ед|род,ед)'}\n",
      "\t{u'lex': u'будлануть', u'qual': u'bastard', u'wt': 0.02766311711, u'gr': u'V,сов,нп=прош,ед,изъяв,жен'}\n",
      "\t{u'lex': u'будланывать', u'qual': u'bastard', u'wt': 0.01146493374, u'gr': u'V,пе=прош,ед,изъяв,жен,сов'}\n",
      "бо́кра\n",
      "\t{u'lex': u'бокра', u'qual': u'bastard', u'wt': 0.8898982327, u'gr': u'S,ед,жен,неод=им'}\n",
      "\t{u'lex': u'бокрый', u'qual': u'bastard', u'wt': 0.1101017673, u'gr': u'A=ед,кр,жен'}\n",
      "и\n",
      "\t{u'lex': u'и', u'wt': 0.9999770357, u'gr': u'CONJ='}\n",
      "\t{u'lex': u'и', u'wt': 1.020511514e-05, u'gr': u'INTJ='}\n",
      "\t{u'lex': u'и', u'wt': 6.379604644e-06, u'gr': u'S,сокр=(пр,мн|пр,ед|вин,мн|вин,ед|дат,мн|дат,ед|род,мн|род,ед|твор,мн|твор,ед|им,мн|им,ед)'}\n",
      "\t{u'lex': u'и', u'wt': 6.37957056e-06, u'gr': u'PART='}\n",
      "курдя́чит\n",
      "\t{u'lex': u'курдячить', u'qual': u'bastard', u'wt': 0.5, u'gr': u'V,обсц,сов,пе=непрош,ед,изъяв,3-л'}\n",
      "\t{u'lex': u'курдячить', u'qual': u'bastard', u'wt': 0.5, u'gr': u'V,обсц,несов,пе=непрош,ед,изъяв,3-л'}\n",
      "бокрёнка\n",
      "\t{u'lex': u'бокренка', u'qual': u'bastard', u'wt': 0.2200160995, u'gr': u'S,имя,жен,од=им,ед'}\n",
      "\t{u'lex': u'бокренок', u'qual': u'bastard', u'wt': 0.165166425, u'gr': u'S,муж,неод=род,ед'}\n",
      "\t{u'lex': u'бокренка', u'qual': u'bastard', u'wt': 0.1392542771, u'gr': u'S,жен,од=им,ед'}\n",
      "\t{u'lex': u'бокренка', u'qual': u'bastard', u'wt': 0.1240808471, u'gr': u'S,жен,неод=им,ед'}\n",
      "\t{u'lex': u'бокренок', u'qual': u'bastard', u'wt': 0.1205990358, u'gr': u'S,муж,неод=род,ед'}\n",
      "\t{u'lex': u'бокренок', u'qual': u'bastard', u'wt': 0.09129371203, u'gr': u'S,муж,од=(вин,ед|род,ед)'}\n",
      "\t{u'lex': u'бокренка', u'qual': u'bastard', u'wt': 0.07074299558, u'gr': u'S,имя,мж,од=им,ед'}\n",
      "\t{u'lex': u'бокренк', u'qual': u'bastard', u'wt': 0.06884660791, u'gr': u'S,имя,муж,од=(вин,ед|род,ед)'}\n"
     ]
    }
   ],
   "source": [
    "# Ну и результат морфологического анализа\n",
    "# выведены всевозможные разборы, чтобы оценить масшатбы\n",
    "for word in mystem_result:\n",
    "    print word['text']\n",
    "    for res in word['analysis']:\n",
    "        print '\\t', repr(res).decode('unicode_escape')"
   ]
  },
  {
   "cell_type": "markdown",
   "metadata": {},
   "source": [
    "Создадим теперь анализатор со снятием омонимии"
   ]
  },
  {
   "cell_type": "code",
   "execution_count": 38,
   "metadata": {},
   "outputs": [],
   "source": [
    "mystem_analyzer2 = Mystem(entire_input=False, disambiguation=True)"
   ]
  },
  {
   "cell_type": "code",
   "execution_count": 40,
   "metadata": {},
   "outputs": [],
   "source": [
    "mystem_result2 = mystem_analyzer2.analyze(sample_text)\n",
    "mystem_lemmas2 = mystem_analyzer2.lemmatize(sample_text)"
   ]
  },
  {
   "cell_type": "code",
   "execution_count": 41,
   "metadata": {},
   "outputs": [
    {
     "name": "stdout",
     "output_type": "stream",
     "text": [
      "Гло́кая ку́здра ште́ко будлану́ла бо́кра и курдя́чит бокрёнка\n",
      "глокая глокай\n",
      "куздра куздра\n",
      "штеко штеко\n",
      "будлануть будланул\n",
      "бокра бокра\n",
      "и и\n",
      "курдячить курдячить\n",
      "бокренка бокренок\n"
     ]
    }
   ],
   "source": [
    "print sample_text\n",
    "for (word, word2) in zip(mystem_lemmas, mystem_lemmas2):    \n",
    "    print word, word2"
   ]
  },
  {
   "cell_type": "code",
   "execution_count": 43,
   "metadata": {},
   "outputs": [
    {
     "name": "stdout",
     "output_type": "stream",
     "text": [
      "Гло́кая\n",
      "\t{u'lex': u'глокай', u'qual': u'bastard', u'wt': 0.09304979929, u'gr': u'S,муж,неод=род,ед'}\n",
      "ку́здра\n",
      "\t{u'lex': u'куздра', u'qual': u'bastard', u'wt': 0.6292693823, u'gr': u'S,ед,жен,неод=им'}\n",
      "ште́ко\n",
      "\t{u'lex': u'штеко', u'qual': u'bastard', u'wt': 0.2574119755, u'gr': u'ADV='}\n",
      "будлану́ла\n",
      "\t{u'lex': u'будланул', u'qual': u'bastard', u'wt': 0.03753661836, u'gr': u'S,муж,од=(вин,ед|род,ед)'}\n",
      "бо́кра\n",
      "\t{u'lex': u'бокра', u'qual': u'bastard', u'wt': 0.8898982327, u'gr': u'S,ед,жен,неод=им'}\n",
      "и\n",
      "\t{u'lex': u'и', u'wt': 0.9999770357, u'gr': u'CONJ='}\n",
      "курдя́чит\n",
      "\t{u'lex': u'курдячить', u'qual': u'bastard', u'wt': 0.5, u'gr': u'V,обсц,сов,пе=непрош,ед,изъяв,3-л'}\n",
      "бокрёнка\n",
      "\t{u'lex': u'бокренок', u'qual': u'bastard', u'wt': 0.165166425, u'gr': u'S,муж,неод=род,ед'}\n"
     ]
    }
   ],
   "source": [
    "for word in mystem_result2:\n",
    "    print word['text']\n",
    "    for res in word['analysis']:\n",
    "        print '\\t', repr(res).decode('unicode_escape')"
   ]
  },
  {
   "cell_type": "markdown",
   "metadata": {},
   "source": [
    "Проблемы MyStem"
   ]
  },
  {
   "cell_type": "code",
   "execution_count": 44,
   "metadata": {},
   "outputs": [
    {
     "name": "stdout",
     "output_type": "stream",
     "text": [
      "александра иванов пойти в кино\n",
      "александра иванов видеть в кино с кто-то\n",
      "воробей сегодня вставать не с тот нога\n"
     ]
    }
   ],
   "source": [
    "disambiguations = [ 'Александра Иванова пошла в кино',\n",
    "                    'Александра Иванова видели в кино с кем-то',\n",
    "                    'Воробьев сегодня встал не с той ноги']\n",
    "\n",
    "disambiguation_results = []\n",
    "for dis in disambiguations:\n",
    "    disambiguation_results.append(mystem_analyzer2.lemmatize(dis))\n",
    "    \n",
    "for res in disambiguation_results:\n",
    "    for word in res:\n",
    "        print word,\n",
    "    print"
   ]
  },
  {
   "cell_type": "markdown",
   "metadata": {},
   "source": [
    "#### Задание\n",
    "Для того, чтобы наиграться с MyStem, предлагается написать методы, которые:\n",
    "- находит топ n лексем\n",
    "- находит слова с наибольшей и наименьшей энтропией"
   ]
  },
  {
   "cell_type": "code",
   "execution_count": 45,
   "metadata": {},
   "outputs": [],
   "source": [
    "def get_top_words(text, n):\n",
    "    '''\n",
    "    :param text: input text in russian\n",
    "    :param n: number of most common words\n",
    "    :return: list of most common lexemas\n",
    "    '''\n",
    "    pass\n",
    "\n",
    "def get_max_entropy_words(text, n):\n",
    "    '''\n",
    "    :param text: input text in russian\n",
    "    :param n: number of most words with maximun entropy\n",
    "    :return: list of words with entropies\n",
    "    '''\n",
    "    pass\n",
    "\n",
    "def get_min_entropy_words(text, n):\n",
    "    '''\n",
    "    :param text: input text in russian\n",
    "    :param n: number of most words with minimum entropy\n",
    "    :return: list of words with entropies\n",
    "    '''\n",
    "    pass"
   ]
  },
  {
   "cell_type": "markdown",
   "metadata": {},
   "source": [
    "### 2. Pymorphy"
   ]
  },
  {
   "cell_type": "code",
   "execution_count": null,
   "metadata": {},
   "outputs": [],
   "source": [
    "# установка модуля и словарей\n",
    "!pip install pymorphy2\n",
    "!pip install -U pymorphy2-dicts-ru"
   ]
  },
  {
   "cell_type": "code",
   "execution_count": 46,
   "metadata": {},
   "outputs": [],
   "source": [
    "# создание анализатора\n",
    "import pymorphy2\n",
    "morph = pymorphy2.MorphAnalyzer()"
   ]
  },
  {
   "cell_type": "code",
   "execution_count": 56,
   "metadata": {},
   "outputs": [],
   "source": [
    "# sample_text = u'Глокая куздра штеко будланула бокра и кудрячит бокренка'\n",
    "# в отличие от mystem работает пословно\n",
    "pymorphy_results = map(lambda x: morph.parse(x), sample_text.split())"
   ]
  },
  {
   "cell_type": "code",
   "execution_count": 73,
   "metadata": {},
   "outputs": [
    {
     "name": "stdout",
     "output_type": "stream",
     "text": [
      "гло́кая\n",
      "\tгло́кай NOUN,anim,masc,Name sing,gent 0.333342355998\n",
      "\tгло́кай NOUN,anim,masc,Name sing,accs 0.333342355998\n",
      "\tгло́кий ADJF femn,sing,nomn 0.3083315288\n",
      "\tгло́кий NOUN,anim,femn,Sgtm,Surn sing,nomn 0.0214107838891\n",
      "\tгло́кать GRND,impf,intr pres 0.00357297531399\n",
      "ку́здра\n",
      "\tку́здра NOUN,inan,femn,Sgtm,Fixd,Abbr,Geox sing,nomn 0.15\n",
      "\tку́здра NOUN,inan,femn,Sgtm,Fixd,Abbr,Geox sing,gent 0.15\n",
      "\tку́здра NOUN,inan,femn,Sgtm,Fixd,Abbr,Geox sing,datv 0.15\n",
      "\tку́здра NOUN,inan,femn,Sgtm,Fixd,Abbr,Geox sing,accs 0.15\n",
      "\tку́здра NOUN,inan,femn,Sgtm,Fixd,Abbr,Geox sing,ablt 0.15\n",
      "\tку́здра NOUN,inan,femn,Sgtm,Fixd,Abbr,Geox sing,loct 0.15\n",
      "\tку́здра NOUN,inan,femn,Sgtm sing,nomn 0.05\n",
      "\tку́здра NOUN,inan,femn,Sgtm,Geox sing,nomn 0.05\n",
      "ште́ко\n",
      "\tште́ко NOUN,anim,GNdr,Ms-f,Fixd,Surn sing,nomn 0.0799502899751\n",
      "\tште́ко NOUN,anim,GNdr,Ms-f,Fixd,Surn sing,gent 0.0799502899751\n",
      "\tште́ко NOUN,anim,GNdr,Ms-f,Fixd,Surn sing,datv 0.0799502899751\n",
      "\tште́ко NOUN,anim,GNdr,Ms-f,Fixd,Surn sing,accs 0.0799502899751\n",
      "\tште́ко NOUN,anim,GNdr,Ms-f,Fixd,Surn sing,ablt 0.0799502899751\n",
      "\tште́ко NOUN,anim,GNdr,Ms-f,Fixd,Surn sing,loct 0.0799502899751\n",
      "\tште́ко NOUN,anim,GNdr,Ms-f,Fixd,Surn plur,nomn 0.0799502899751\n",
      "\tште́ко NOUN,anim,GNdr,Ms-f,Fixd,Surn plur,gent 0.0799502899751\n",
      "\tште́ко NOUN,anim,GNdr,Ms-f,Fixd,Surn plur,datv 0.0799502899751\n",
      "\tште́ко NOUN,anim,GNdr,Ms-f,Fixd,Surn plur,accs 0.0799502899751\n",
      "\tште́ко NOUN,anim,GNdr,Ms-f,Fixd,Surn plur,ablt 0.0799502899751\n",
      "\tште́ко NOUN,anim,GNdr,Ms-f,Fixd,Surn plur,loct 0.0799502899751\n",
      "\tште́ко ADVB 0.0194697597349\n",
      "\tште́кий ADJS neut,sing 0.00787075393538\n",
      "\tште́ко ADJF,Fixd,Subx,Qual masc,sing,nomn 0.0005523336095\n",
      "\tште́ко ADJF,Fixd,Subx,Qual masc,sing,gent 0.0005523336095\n",
      "\tште́ко ADJF,Fixd,Subx,Qual masc,sing,datv 0.0005523336095\n",
      "\tште́ко ADJF,Fixd,Subx,Qual masc,sing,accs 0.0005523336095\n",
      "\tште́ко ADJF,Fixd,Subx,Qual masc,sing,ablt 0.0005523336095\n",
      "\tште́ко ADJF,Fixd,Subx,Qual masc,sing,loct 0.0005523336095\n",
      "\tште́ко ADJF,Fixd,Subx,Qual femn,sing,nomn 0.0005523336095\n",
      "\tште́ко ADJF,Fixd,Subx,Qual femn,sing,gent 0.0005523336095\n",
      "\tште́ко ADJF,Fixd,Subx,Qual femn,sing,datv 0.0005523336095\n",
      "\tште́ко ADJF,Fixd,Subx,Qual femn,sing,accs 0.0005523336095\n",
      "\tште́ко ADJF,Fixd,Subx,Qual femn,sing,ablt 0.0005523336095\n",
      "\tште́ко ADJF,Fixd,Subx,Qual femn,sing,loct 0.0005523336095\n",
      "\tште́ко ADJF,Fixd,Subx,Qual neut,sing,nomn 0.0005523336095\n",
      "\tште́ко ADJF,Fixd,Subx,Qual neut,sing,gent 0.0005523336095\n",
      "\tште́ко ADJF,Fixd,Subx,Qual neut,sing,datv 0.0005523336095\n",
      "\tште́ко ADJF,Fixd,Subx,Qual neut,sing,accs 0.0005523336095\n",
      "\tште́ко ADJF,Fixd,Subx,Qual neut,sing,ablt 0.0005523336095\n",
      "\tште́ко ADJF,Fixd,Subx,Qual neut,sing,loct 0.0005523336095\n",
      "\tште́ко ADJF,Fixd,Subx,Qual plur,nomn 0.0005523336095\n",
      "\tште́ко ADJF,Fixd,Subx,Qual plur,gent 0.0005523336095\n",
      "\tште́ко ADJF,Fixd,Subx,Qual plur,datv 0.0005523336095\n",
      "\tште́ко ADJF,Fixd,Subx,Qual plur,accs 0.0005523336095\n",
      "\tште́ко ADJF,Fixd,Subx,Qual plur,ablt 0.0005523336095\n",
      "\tште́ко ADJF,Fixd,Subx,Qual plur,loct 0.0005523336095\n",
      "будлану́ла\n",
      "\tбудлану́ть VERB,impf,tran femn,sing,past,indc 0.849907764548\n",
      "\tбудлану́л NOUN,inan,masc sing,gent 0.112359550562\n",
      "\tбудлану́лый ADJS femn,sing 0.0362233774945\n",
      "\tбудлану́ла ADVB 0.00150930739561\n",
      "бо́кра\n",
      "\tбо́кр NOUN,inan,masc sing,gent 0.444444444444\n",
      "\tбо́кра NOUN,inan,femn sing,nomn 0.444444444444\n",
      "\tбо́крый ADJS,Qual femn,sing 0.111111111111\n",
      "и\n",
      "\tи CONJ 0.997671\n",
      "\tи INTJ 0.000436\n",
      "\tи PRCL 0.000145\n",
      "\tисполняющий NOUN,anim,masc,Fixd,Abbr sing,nomn 0.000145\n",
      "\tисполняющий NOUN,anim,masc,Fixd,Abbr sing,gent 0.000145\n",
      "\tисполняющий NOUN,anim,masc,Fixd,Abbr sing,datv 0.000145\n",
      "\tисполняющий NOUN,anim,masc,Fixd,Abbr sing,accs 0.000145\n",
      "\tисполняющий NOUN,anim,masc,Fixd,Abbr sing,ablt 0.000145\n",
      "\tисполняющий NOUN,anim,masc,Fixd,Abbr sing,loct 0.000145\n",
      "\tисполняющий NOUN,anim,masc,Fixd,Abbr plur,nomn 0.000145\n",
      "\tисполняющий NOUN,anim,masc,Fixd,Abbr plur,gent 0.000145\n",
      "\tисполняющий NOUN,anim,masc,Fixd,Abbr plur,datv 0.000145\n",
      "\tисполняющий NOUN,anim,masc,Fixd,Abbr plur,accs 0.000145\n",
      "\tисполняющий NOUN,anim,masc,Fixd,Abbr plur,ablt 0.000145\n",
      "\tисполняющий NOUN,anim,masc,Fixd,Abbr plur,loct 0.000145\n",
      "курдя́чит\n",
      "\tкурдя́чить VERB,perf,tran sing,3per,futr,indc 0.941176470588\n",
      "\tкурдя́читый ADJS,Qual masc,sing 0.00735294117647\n",
      "\tкурдя́чит NOUN,anim,femn,Sgtm,Fixd,Name sing,nomn 0.00735294117647\n",
      "\tкурдя́чит NOUN,anim,femn,Sgtm,Fixd,Name sing,gent 0.00735294117647\n",
      "\tкурдя́чит NOUN,anim,femn,Sgtm,Fixd,Name sing,datv 0.00735294117647\n",
      "\tкурдя́чит NOUN,anim,femn,Sgtm,Fixd,Name sing,accs 0.00735294117647\n",
      "\tкурдя́чит NOUN,anim,femn,Sgtm,Fixd,Name sing,ablt 0.00735294117647\n",
      "\tкурдя́чит NOUN,anim,femn,Sgtm,Fixd,Name sing,loct 0.00735294117647\n",
      "\tкурдя́читый ADJS masc,sing 0.00735294117647\n",
      "бокрёнка\n",
      "\tбокрёнок NOUN,anim,masc sing,gent 0.5\n",
      "\tбокрёнок NOUN,anim,masc sing,accs 0.5\n"
     ]
    }
   ],
   "source": [
    "# собираем результаты и выводим \n",
    "for word_result in pymorphy_results:\n",
    "    print word_result[0].word\n",
    "    for res in word_result:\n",
    "#         print repr(res).decode('unicode_escape')\n",
    "        print '\\t', res.normal_form, res.tag, res.score"
   ]
  },
  {
   "cell_type": "markdown",
   "metadata": {},
   "source": [
    "В отличие от mystem можно получать лексему и склонять слова"
   ]
  },
  {
   "cell_type": "code",
   "execution_count": 100,
   "metadata": {},
   "outputs": [
    {
     "name": "stdout",
     "output_type": "stream",
     "text": [
      "градус NOUN,inan,masc sing,nomn\n",
      "градуса NOUN,inan,masc sing,gent\n",
      "градусу NOUN,inan,masc sing,datv\n",
      "градус NOUN,inan,masc sing,accs\n",
      "градусом NOUN,inan,masc sing,ablt\n",
      "градусе NOUN,inan,masc sing,loct\n",
      "градусы NOUN,inan,masc plur,nomn\n",
      "градусов NOUN,inan,masc plur,gent\n",
      "градусам NOUN,inan,masc plur,datv\n",
      "градусы NOUN,inan,masc plur,accs\n",
      "градусами NOUN,inan,masc plur,ablt\n",
      "градусах NOUN,inan,masc plur,loct\n"
     ]
    }
   ],
   "source": [
    "bokr = morph.parse(u'градус')[0]\n",
    "for form in bokr.lexeme:\n",
    "    print form.word, form.tag.PO"
   ]
  },
  {
   "cell_type": "code",
   "execution_count": 107,
   "metadata": {},
   "outputs": [
    {
     "name": "stdout",
     "output_type": "stream",
     "text": [
      "градусе градус градуса градусов\n"
     ]
    }
   ],
   "source": [
    "print bokr.inflect({'loct'}).word,\n",
    "print bokr.make_agree_with_number(1).word,\n",
    "print bokr.make_agree_with_number(2).word,\n",
    "print bokr.make_agree_with_number(5).word"
   ]
  },
  {
   "cell_type": "markdown",
   "metadata": {},
   "source": [
    "#### Задание \n",
    "С помощью pymorphy на тексте получить:\n",
    "- Распределение по частям речи\n",
    "- Для части речи вывести топ n лексем"
   ]
  },
  {
   "cell_type": "code",
   "execution_count": null,
   "metadata": {},
   "outputs": [],
   "source": [
    "def get_pos_distribution(text, lexemas=None):\n",
    "    '''\n",
    "    :param: text: input text in russian\n",
    "    :param: lexemas: list of interested pos, if None - all are interesting \n",
    "    :return: dict of pos - probability\n",
    "    '''\n",
    "    pass\n",
    "\n",
    "def get_top_pos_words(text, pos, n):\n",
    "    '''\n",
    "    :param text: input text in russian\n",
    "    :param pos: part of speech \n",
    "    :param n: number of most common words\n",
    "    :return: list of most common lexemas with selected pos\n",
    "    '''\n",
    "    pass"
   ]
  }
 ],
 "metadata": {
  "kernelspec": {
   "display_name": "Python 2",
   "language": "python",
   "name": "python2"
  },
  "language_info": {
   "codemirror_mode": {
    "name": "ipython",
    "version": 2
   },
   "file_extension": ".py",
   "mimetype": "text/x-python",
   "name": "python",
   "nbconvert_exporter": "python",
   "pygments_lexer": "ipython2",
   "version": "2.7.16"
  }
 },
 "nbformat": 4,
 "nbformat_minor": 2
}
